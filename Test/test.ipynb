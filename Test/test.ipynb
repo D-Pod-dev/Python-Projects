{
 "cells": [
  {
   "attachments": {},
   "cell_type": "markdown",
   "metadata": {},
   "source": [
    "# Hello, this is my test.\n",
    "## Subtitle here"
   ]
  },
  {
   "cell_type": "code",
   "execution_count": 1,
   "metadata": {},
   "outputs": [
    {
     "name": "stdout",
     "output_type": "stream",
     "text": [
      "bla\n"
     ]
    }
   ],
   "source": [
    "print(\"bla\")"
   ]
  },
  {
   "cell_type": "code",
   "execution_count": null,
   "metadata": {},
   "outputs": [],
   "source": [
    "#Solving equations:\n",
    "#   2x - y = 1\n",
    "#   3x + 2y = 12\n",
    "\n",
    "import numpy as np\n",
    "\n",
    "a = np.array([ [2, -1], [3, 2] ])\n",
    "b = np.array([ 1, 12])\n",
    "\n",
    "solution = np.linalg.solve(a, b)\n",
    "\n",
    "print(f\"x = {solution[0]}\\ny = {solution[1]}\")"
   ]
  }
 ],
 "metadata": {
  "kernelspec": {
   "display_name": "env",
   "language": "python",
   "name": "python3"
  },
  "language_info": {
   "codemirror_mode": {
    "name": "ipython",
    "version": 3
   },
   "file_extension": ".py",
   "mimetype": "text/x-python",
   "name": "python",
   "nbconvert_exporter": "python",
   "pygments_lexer": "ipython3",
   "version": "3.11.3"
  },
  "orig_nbformat": 4
 },
 "nbformat": 4,
 "nbformat_minor": 2
}
