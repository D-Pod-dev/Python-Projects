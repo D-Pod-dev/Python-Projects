{
 "cells": [
  {
   "cell_type": "code",
   "execution_count": null,
   "id": "7b5243a0",
   "metadata": {},
   "outputs": [
    {
     "name": "stdout",
     "output_type": "stream",
     "text": [
      "This might stay in the buffer...This will show because of newline\n",
      "Force this to show right away..."
     ]
    }
   ],
   "source": [
    "print(\"This might stay in the buffer...\", end='')  # Might not show immediately\n",
    "print(\"This will show because of newline\")         # Shows right away due to newline\n",
    "print(\"Force this to show right away...\", end='', flush=True)  # Shows immediately due to flush\n"
   ]
  },
  {
   "cell_type": "code",
   "execution_count": null,
   "id": "c1b830f8",
   "metadata": {},
   "outputs": [
    {
     "name": "stdout",
     "output_type": "stream",
     "text": [
      "Let's compare buffered vs flushed output:\n",
      "----------------------------------------\n",
      "\n",
      "Running without flush...\n",
      "\n",
      "Without flush (might not see updates in real-time):\n",
      "Done!      \n",
      "\n",
      "Running with flush...\n",
      "\n",
      "With flush (updates in real-time):\n",
      "Done!      \n"
     ]
    }
   ],
   "source": [
    "import sys\n",
    "import time\n",
    "\n",
    "def without_flush():\n",
    "    print(\"\\nWithout flush (might not see updates in real-time):\")\n",
    "    for i in range(5):\n",
    "        print(\"Loading\" + \".\" * i, end='\\r')  # \\r returns to start of line\n",
    "        time.sleep(1)\n",
    "    print(\"Done!      \")\n",
    "\n",
    "def with_flush():\n",
    "    print(\"\\nWith flush (updates in real-time):\")\n",
    "    for i in range(5):\n",
    "        print(\"Loading\" + \".\" * i, end='\\r', flush=True)  # flush=True forces immediate output\n",
    "        time.sleep(1)\n",
    "    print(\"Done!      \")\n",
    "\n",
    "print(\"Let's compare buffered vs flushed output:\")\n",
    "print(\"----------------------------------------\")\n",
    "\n",
    "print(\"\\nRunning without flush...\")\n",
    "without_flush()\n",
    "\n",
    "print(\"\\nRunning with flush...\")\n",
    "with_flush()\n"
   ]
  },
  {
   "cell_type": "code",
   "execution_count": null,
   "id": "05d7ee22",
   "metadata": {},
   "outputs": [
    {
     "name": "stdout",
     "output_type": "stream",
     "text": [
      "\n",
      "Starting download simulation...\n",
      "\n",
      "With flush:\n",
      "Download complete!    \n",
      "\n",
      "Without flush:\n",
      "Download complete!    \n"
     ]
    }
   ],
   "source": [
    "import time\n",
    "import sys\n",
    "\n",
    "def demo_flush():\n",
    "    print(\"\\nStarting download simulation...\")\n",
    "    \n",
    "    # With flush - you'll see this progress immediately\n",
    "    print(\"\\nWith flush:\")\n",
    "    for i in range(0, 101, 10):\n",
    "        print(f\"Downloading: {i}%\", end='', flush=True)\n",
    "        time.sleep(1)\n",
    "        print('\\r', end='')  # Carriage return to overwrite the line\n",
    "    \n",
    "    print(\"Download complete!    \")\n",
    "    \n",
    "    # Without flush - output might be buffered\n",
    "    print(\"\\nWithout flush:\")\n",
    "    for i in range(0, 101, 10):\n",
    "        sys.stdout.write(f\"Downloading: {i}%\")\n",
    "        time.sleep(1)\n",
    "        sys.stdout.write('\\r')\n",
    "    \n",
    "    print(\"Download complete!    \")\n",
    "\n",
    "demo_flush()\n"
   ]
  },
  {
   "cell_type": "code",
   "execution_count": null,
   "id": "03bdb40e",
   "metadata": {},
   "outputs": [],
   "source": [
    "import time\n",
    "import os\n",
    "\n",
    "def write_with_flush():\n",
    "    print(\"Writing to file with flush...\")\n",
    "    with open('test_flush.txt', 'w') as f:\n",
    "        for i in range(10):\n",
    "            f.write(f\"Line {i}\\n\")\n",
    "            f.flush()  # Force writing to disk\n",
    "            print(f\"Written line {i}\")\n",
    "            time.sleep(0.5)  # Simulate some processing time\n",
    "            \n",
    "            # You can check the file size after each write\n",
    "            print(f\"Current file size: {os.path.getsize('test_flush.txt')} bytes\")\n",
    "\n",
    "def write_without_flush():\n",
    "    print(\"\\nWriting to file without flush...\")\n",
    "    with open('test_no_flush.txt', 'w') as f:\n",
    "        for i in range(10):\n",
    "            f.write(f\"Line {i}\\n\")\n",
    "            print(f\"Written line {i}\")\n",
    "            time.sleep(0.5)  # Simulate some processing time\n",
    "            \n",
    "            # You can check the file size after each write\n",
    "            print(f\"Current file size: {os.path.getsize('test_no_flush.txt')} bytes\")\n",
    "\n",
    "# Run both examples\n",
    "write_with_flush()\n",
    "write_without_flush()\n"
   ]
  },
  {
   "cell_type": "code",
   "execution_count": 1,
   "id": "1c70b922",
   "metadata": {},
   "outputs": [
    {
     "name": "stdout",
     "output_type": "stream",
     "text": [
      "Example 1 - WITHOUT flush\n",
      "\n",
      "Starting process without flush:\n",
      "..........\n",
      "\n",
      "Example 2 - WITH flush\n",
      "\n",
      "Starting process with flush:\n",
      "..........\n",
      "All done!\n"
     ]
    }
   ],
   "source": [
    "import time\n",
    "import sys\n",
    "\n",
    "# This simulates a long-running process where you want to show progress\n",
    "def process_data(use_flush):\n",
    "    print(f\"\\nStarting process {'with' if use_flush else 'without'} flush:\")\n",
    "    \n",
    "    for _ in range(10):\n",
    "        # Process some data...\n",
    "        time.sleep(1)  # Simulating work\n",
    "        \n",
    "        if use_flush:\n",
    "            # This will show each dot as it appears\n",
    "            print(\".\", end=\"\", flush=True)\n",
    "        else:\n",
    "            # This might hold the dots in the buffer\n",
    "            # until there's enough data or until the buffer times out\n",
    "            print(\".\", end=\"\")\n",
    "\n",
    "print(\"Example 1 - WITHOUT flush\")\n",
    "process_data(use_flush=False)\n",
    "\n",
    "print(\"\\n\\nExample 2 - WITH flush\")\n",
    "process_data(use_flush=True)\n",
    "\n",
    "print(\"\\nAll done!\")\n"
   ]
  },
  {
   "cell_type": "code",
   "execution_count": 3,
   "id": "bdaf336d",
   "metadata": {},
   "outputs": [
    {
     "name": "stdout",
     "output_type": "stream",
     "text": [
      "Starting a very long line of output...\n",
      "........................................................................................................................................................................................................................................................................................................................................................................................................................................................................................................................................................................................................................................................................................................................................................................................................................................................................................................................................................................................................................................\n",
      "\n",
      "Now with flush...\n",
      "........................................................................................................................................................................................................................................................................................................................................................................................................................................................................................................................................................................................................................................................................................................................................................................................................................................................................................................................................................................................................................................\n",
      "Done!\n"
     ]
    }
   ],
   "source": [
    "import time\n",
    "import sys\n",
    "\n",
    "print(\"Starting a very long line of output...\")\n",
    "\n",
    "# Write 1000 characters without flush\n",
    "for i in range(1000):\n",
    "    sys.stdout.write('.')\n",
    "    time.sleep(0.01)  # Small delay\n",
    "\n",
    "print(\"\\n\\nNow with flush...\")\n",
    "\n",
    "# Write 1000 characters with flush\n",
    "for i in range(1000):\n",
    "    sys.stdout.write('.')\n",
    "    sys.stdout.flush()  # Force output\n",
    "    time.sleep(0.01)  # Small delay\n",
    "\n",
    "print(\"\\nDone!\")\n"
   ]
  }
 ],
 "metadata": {
  "kernelspec": {
   "display_name": "env",
   "language": "python",
   "name": "python3"
  },
  "language_info": {
   "codemirror_mode": {
    "name": "ipython",
    "version": 3
   },
   "file_extension": ".py",
   "mimetype": "text/x-python",
   "name": "python",
   "nbconvert_exporter": "python",
   "pygments_lexer": "ipython3",
   "version": "3.11.3"
  }
 },
 "nbformat": 4,
 "nbformat_minor": 5
}
